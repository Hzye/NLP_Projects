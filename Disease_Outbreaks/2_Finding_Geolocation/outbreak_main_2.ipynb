{
 "cells": [
  {
   "cell_type": "code",
   "execution_count": 1,
   "source": [
    "import re # text extration regex\r\n",
    "import pandas as pd # data manipulation and analysis\r\n",
    "import numpy as np\r\n",
    "import matplotlib as plt # general visualisation\r\n",
    "import geonamescache as gc # identify cities and countries and their location\r\n",
    "#from matplotlib import basemap # geographical visualisation\r\n",
    "from collections import Counter # check duplicates in dictionary\r\n",
    "import unidecode # handling accent marks, editing text\r\n",
    "import json # saving data"
   ],
   "outputs": [],
   "metadata": {}
  },
  {
   "cell_type": "code",
   "execution_count": 2,
   "source": [
    "# import df\r\n",
    "df = pd.read_json('headline_cities_and_countries.json')\r\n",
    "df = df.replace({None: np.nan})\r\n",
    "df.head()"
   ],
   "outputs": [
    {
     "output_type": "execute_result",
     "data": {
      "text/plain": [
       "                                  Headline Countries         Cities\n",
       "0                 Zika Outbreak Hits Miami       NaN          Miami\n",
       "1          Could Zika Reach New York City?       NaN  New York City\n",
       "2        First Case of Zika in Miami Beach       NaN    Miami Beach\n",
       "3  Mystery Virus Spreads in Recife, Brazil    Brazil         Recife\n",
       "4  Dallas man comes down with case of Zika       NaN         Dallas"
      ],
      "text/html": [
       "<div>\n",
       "<style scoped>\n",
       "    .dataframe tbody tr th:only-of-type {\n",
       "        vertical-align: middle;\n",
       "    }\n",
       "\n",
       "    .dataframe tbody tr th {\n",
       "        vertical-align: top;\n",
       "    }\n",
       "\n",
       "    .dataframe thead th {\n",
       "        text-align: right;\n",
       "    }\n",
       "</style>\n",
       "<table border=\"1\" class=\"dataframe\">\n",
       "  <thead>\n",
       "    <tr style=\"text-align: right;\">\n",
       "      <th></th>\n",
       "      <th>Headline</th>\n",
       "      <th>Countries</th>\n",
       "      <th>Cities</th>\n",
       "    </tr>\n",
       "  </thead>\n",
       "  <tbody>\n",
       "    <tr>\n",
       "      <th>0</th>\n",
       "      <td>Zika Outbreak Hits Miami</td>\n",
       "      <td>NaN</td>\n",
       "      <td>Miami</td>\n",
       "    </tr>\n",
       "    <tr>\n",
       "      <th>1</th>\n",
       "      <td>Could Zika Reach New York City?</td>\n",
       "      <td>NaN</td>\n",
       "      <td>New York City</td>\n",
       "    </tr>\n",
       "    <tr>\n",
       "      <th>2</th>\n",
       "      <td>First Case of Zika in Miami Beach</td>\n",
       "      <td>NaN</td>\n",
       "      <td>Miami Beach</td>\n",
       "    </tr>\n",
       "    <tr>\n",
       "      <th>3</th>\n",
       "      <td>Mystery Virus Spreads in Recife, Brazil</td>\n",
       "      <td>Brazil</td>\n",
       "      <td>Recife</td>\n",
       "    </tr>\n",
       "    <tr>\n",
       "      <th>4</th>\n",
       "      <td>Dallas man comes down with case of Zika</td>\n",
       "      <td>NaN</td>\n",
       "      <td>Dallas</td>\n",
       "    </tr>\n",
       "  </tbody>\n",
       "</table>\n",
       "</div>"
      ]
     },
     "metadata": {},
     "execution_count": 2
    }
   ],
   "metadata": {}
  },
  {
   "cell_type": "code",
   "execution_count": 3,
   "source": [
    "df.describe()"
   ],
   "outputs": [
    {
     "output_type": "execute_result",
     "data": {
      "text/plain": [
       "                               Headline Countries  Cities\n",
       "count                               650        15     606\n",
       "unique                              647        10     573\n",
       "top     Barcelona Struck by Spanish Flu  Malaysia  Monroe\n",
       "freq                                  2         3       4"
      ],
      "text/html": [
       "<div>\n",
       "<style scoped>\n",
       "    .dataframe tbody tr th:only-of-type {\n",
       "        vertical-align: middle;\n",
       "    }\n",
       "\n",
       "    .dataframe tbody tr th {\n",
       "        vertical-align: top;\n",
       "    }\n",
       "\n",
       "    .dataframe thead th {\n",
       "        text-align: right;\n",
       "    }\n",
       "</style>\n",
       "<table border=\"1\" class=\"dataframe\">\n",
       "  <thead>\n",
       "    <tr style=\"text-align: right;\">\n",
       "      <th></th>\n",
       "      <th>Headline</th>\n",
       "      <th>Countries</th>\n",
       "      <th>Cities</th>\n",
       "    </tr>\n",
       "  </thead>\n",
       "  <tbody>\n",
       "    <tr>\n",
       "      <th>count</th>\n",
       "      <td>650</td>\n",
       "      <td>15</td>\n",
       "      <td>606</td>\n",
       "    </tr>\n",
       "    <tr>\n",
       "      <th>unique</th>\n",
       "      <td>647</td>\n",
       "      <td>10</td>\n",
       "      <td>573</td>\n",
       "    </tr>\n",
       "    <tr>\n",
       "      <th>top</th>\n",
       "      <td>Barcelona Struck by Spanish Flu</td>\n",
       "      <td>Malaysia</td>\n",
       "      <td>Monroe</td>\n",
       "    </tr>\n",
       "    <tr>\n",
       "      <th>freq</th>\n",
       "      <td>2</td>\n",
       "      <td>3</td>\n",
       "      <td>4</td>\n",
       "    </tr>\n",
       "  </tbody>\n",
       "</table>\n",
       "</div>"
      ]
     },
     "metadata": {},
     "execution_count": 3
    }
   ],
   "metadata": {}
  },
  {
   "cell_type": "code",
   "execution_count": 5,
   "source": [
    "# check duplicate headlines\r\n",
    "df['Headline'].value_counts().sort_values().tail()\r\n",
    "\r\n",
    "# drop duplicates\r\n",
    "df = df.drop_duplicates()\r\n",
    "df.describe()"
   ],
   "outputs": [
    {
     "output_type": "execute_result",
     "data": {
      "text/plain": [
       "                                Headline Countries  Cities\n",
       "count                                647        15     603\n",
       "unique                               647        10     573\n",
       "top     Swine Flu re-emerges in La Jolla  Malaysia  Monroe\n",
       "freq                                   1         3       4"
      ],
      "text/html": [
       "<div>\n",
       "<style scoped>\n",
       "    .dataframe tbody tr th:only-of-type {\n",
       "        vertical-align: middle;\n",
       "    }\n",
       "\n",
       "    .dataframe tbody tr th {\n",
       "        vertical-align: top;\n",
       "    }\n",
       "\n",
       "    .dataframe thead th {\n",
       "        text-align: right;\n",
       "    }\n",
       "</style>\n",
       "<table border=\"1\" class=\"dataframe\">\n",
       "  <thead>\n",
       "    <tr style=\"text-align: right;\">\n",
       "      <th></th>\n",
       "      <th>Headline</th>\n",
       "      <th>Countries</th>\n",
       "      <th>Cities</th>\n",
       "    </tr>\n",
       "  </thead>\n",
       "  <tbody>\n",
       "    <tr>\n",
       "      <th>count</th>\n",
       "      <td>647</td>\n",
       "      <td>15</td>\n",
       "      <td>603</td>\n",
       "    </tr>\n",
       "    <tr>\n",
       "      <th>unique</th>\n",
       "      <td>647</td>\n",
       "      <td>10</td>\n",
       "      <td>573</td>\n",
       "    </tr>\n",
       "    <tr>\n",
       "      <th>top</th>\n",
       "      <td>Swine Flu re-emerges in La Jolla</td>\n",
       "      <td>Malaysia</td>\n",
       "      <td>Monroe</td>\n",
       "    </tr>\n",
       "    <tr>\n",
       "      <th>freq</th>\n",
       "      <td>1</td>\n",
       "      <td>3</td>\n",
       "      <td>4</td>\n",
       "    </tr>\n",
       "  </tbody>\n",
       "</table>\n",
       "</div>"
      ]
     },
     "metadata": {},
     "execution_count": 5
    }
   ],
   "metadata": {}
  },
  {
   "cell_type": "code",
   "execution_count": 6,
   "source": [
    "# visualise data\r\n",
    "df['Countries'].value_counts()"
   ],
   "outputs": [
    {
     "output_type": "execute_result",
     "data": {
      "text/plain": [
       "Malaysia     3\n",
       "Brazil       3\n",
       "Panama       2\n",
       "Mexico       1\n",
       "Hong Kong    1\n",
       "Guatemala    1\n",
       "Singapore    1\n",
       "Thailand     1\n",
       "Vietnam      1\n",
       "Belize       1\n",
       "Name: Countries, dtype: int64"
      ]
     },
     "metadata": {},
     "execution_count": 6
    }
   ],
   "metadata": {}
  },
  {
   "cell_type": "code",
   "execution_count": 8,
   "source": [
    "%matplotlib inline\r\n",
    "\r\n",
    "_ = df['Countries'].value_counts().plot.bar(title='Count of Countries')"
   ],
   "outputs": [
    {
     "output_type": "display_data",
     "data": {
      "text/plain": [
       "<Figure size 432x288 with 1 Axes>"
      ],
      "image/png": "[encoded data removed]"
     },
     "metadata": {
      "needs_background": "light"
     }
    }
   ],
   "metadata": {}
  },
  {
   "cell_type": "code",
   "execution_count": 9,
   "source": [
    "# too many cities to use bar \r\n",
    "df['Cities'].nunique()"
   ],
   "outputs": [
    {
     "output_type": "execute_result",
     "data": {
      "text/plain": [
       "573"
      ]
     },
     "metadata": {},
     "execution_count": 9
    }
   ],
   "metadata": {}
  },
  {
   "cell_type": "code",
   "execution_count": 10,
   "source": [
    "# 10 most common cities\r\n",
    "df['Cities'].value_counts().sort_values().tail(10)"
   ],
   "outputs": [
    {
     "output_type": "execute_result",
     "data": {
      "text/plain": [
       "Norwalk      2\n",
       "Edinburgh    2\n",
       "Richmond     2\n",
       "Barcelona    2\n",
       "Zanzibar     2\n",
       "Cambridge    2\n",
       "Hollywood    2\n",
       "Madrid       3\n",
       "Miami        4\n",
       "Monroe       4\n",
       "Name: Cities, dtype: int64"
      ]
     },
     "metadata": {},
     "execution_count": 10
    }
   ],
   "metadata": {}
  },
  {
   "cell_type": "code",
   "execution_count": 11,
   "source": [
    "_ = df['Cities'].value_counts().sort_values().tail(10).plot.bar(title='Count of 10 Most Common Cities')"
   ],
   "outputs": [
    {
     "output_type": "display_data",
     "data": {
      "text/plain": [
       "<Figure size 432x288 with 1 Axes>"
      ],
      "image/png": "[encoded data removed]"
     },
     "metadata": {
      "needs_background": "light"
     }
    }
   ],
   "metadata": {}
  },
  {
   "cell_type": "code",
   "execution_count": 12,
   "source": [
    "# most cities only occur once\r\n",
    "_ = df['Cities'].value_counts().plot.hist(title='Distribution of City Occurences')"
   ],
   "outputs": [
    {
     "output_type": "display_data",
     "data": {
      "text/plain": [
       "<Figure size 432x288 with 1 Axes>"
      ],
      "image/png": "[encoded data removed]"
     },
     "metadata": {
      "needs_background": "light"
     }
    }
   ],
   "metadata": {}
  },
  {
   "cell_type": "code",
   "execution_count": 15,
   "source": [
    "# ADD LATITUDE AND LONGITUDE FOR EACH CITY\r\n",
    "\r\n",
    "# import city accented mapping\r\n",
    "with open('city_accent_mapping.json', 'r') as fin:\r\n",
    "    city_accent_mapping = json.loads(fin.read())\r\n",
    "\r\n",
    "# add to df by mapping to city names col\r\n",
    "df['Accented_cities'] = df['Cities'].map(city_accent_mapping)\r\n",
    "\r\n",
    "# show cases where accented and unaccentd are different\r\n",
    "df[df['Cities'] != df['Accented_cities']].head(5)"
   ],
   "outputs": [
    {
     "output_type": "execute_result",
     "data": {
      "text/plain": [
       "                                 Headline Countries     Cities Accented_cities\n",
       "7   Geneve Scientists Battle to Find Cure       NaN     Geneve          Genève\n",
       "9      Zika Infested Monkeys in Sao Paulo       NaN  Sao Paulo       São Paulo\n",
       "17          Louisiana Zika cases up to 26       NaN        NaN             NaN\n",
       "19    Zika infects pregnant woman in Cebu       NaN        NaN             NaN\n",
       "47            18 new Zika Cases in Bogota       NaN     Bogota          Bogotá"
      ],
      "text/html": [
       "<div>\n",
       "<style scoped>\n",
       "    .dataframe tbody tr th:only-of-type {\n",
       "        vertical-align: middle;\n",
       "    }\n",
       "\n",
       "    .dataframe tbody tr th {\n",
       "        vertical-align: top;\n",
       "    }\n",
       "\n",
       "    .dataframe thead th {\n",
       "        text-align: right;\n",
       "    }\n",
       "</style>\n",
       "<table border=\"1\" class=\"dataframe\">\n",
       "  <thead>\n",
       "    <tr style=\"text-align: right;\">\n",
       "      <th></th>\n",
       "      <th>Headline</th>\n",
       "      <th>Countries</th>\n",
       "      <th>Cities</th>\n",
       "      <th>Accented_cities</th>\n",
       "    </tr>\n",
       "  </thead>\n",
       "  <tbody>\n",
       "    <tr>\n",
       "      <th>7</th>\n",
       "      <td>Geneve Scientists Battle to Find Cure</td>\n",
       "      <td>NaN</td>\n",
       "      <td>Geneve</td>\n",
       "      <td>Genève</td>\n",
       "    </tr>\n",
       "    <tr>\n",
       "      <th>9</th>\n",
       "      <td>Zika Infested Monkeys in Sao Paulo</td>\n",
       "      <td>NaN</td>\n",
       "      <td>Sao Paulo</td>\n",
       "      <td>São Paulo</td>\n",
       "    </tr>\n",
       "    <tr>\n",
       "      <th>17</th>\n",
       "      <td>Louisiana Zika cases up to 26</td>\n",
       "      <td>NaN</td>\n",
       "      <td>NaN</td>\n",
       "      <td>NaN</td>\n",
       "    </tr>\n",
       "    <tr>\n",
       "      <th>19</th>\n",
       "      <td>Zika infects pregnant woman in Cebu</td>\n",
       "      <td>NaN</td>\n",
       "      <td>NaN</td>\n",
       "      <td>NaN</td>\n",
       "    </tr>\n",
       "    <tr>\n",
       "      <th>47</th>\n",
       "      <td>18 new Zika Cases in Bogota</td>\n",
       "      <td>NaN</td>\n",
       "      <td>Bogota</td>\n",
       "      <td>Bogotá</td>\n",
       "    </tr>\n",
       "  </tbody>\n",
       "</table>\n",
       "</div>"
      ]
     },
     "metadata": {},
     "execution_count": 15
    }
   ],
   "metadata": {}
  },
  {
   "cell_type": "code",
   "execution_count": 19,
   "source": [
    "# when using get_cities_by_name() we need to use original accented name\r\n",
    "print(gc.GeonamesCache().get_cities_by_name('Geneve'))\r\n",
    "print(gc.GeonamesCache().get_cities_by_name('Genève'))"
   ],
   "outputs": [
    {
     "output_type": "stream",
     "name": "stdout",
     "text": [
      "[]\n",
      "[{'2660646': {'geonameid': 2660646, 'name': 'Genève', 'latitude': 46.20222, 'longitude': 6.14569, 'countrycode': 'CH', 'population': 183981, 'timezone': 'Europe/Zurich', 'admin1code': 'GE', 'alternatenames': ['Cenevre', 'GVA', 'Genava', 'Genebe', 'Genebra', 'Geneue', 'Geneva', 'Geneve', 'Genevi', 'Genevo', 'Genevra', 'Genewa', 'Genf', 'Genève', 'Ginebra', 'Ginevra', 'Jenewa', 'Jenwe', 'Xenebra', 'Zeneva', 'Zhehneva', 'Zheneva', 'Znev', 'jeneba', 'jineva', 'jnyf', 'jnywa', 'junevu', 'ri nei wa', 'zheneva', 'znbh', 'Ĝenevo', 'Ženeva', 'Ženēva', 'Γενέβη', 'Γενευη', 'Γενεύη', 'Женева', 'Жэнева', 'Ժնև', 'זנבה', 'جنيف', 'جنیوا', 'जिनेवा', 'ჟენევა', 'ジュネーヴ', '日内瓦', '제네바']}}]\n"
     ]
    }
   ],
   "metadata": {}
  },
  {
   "cell_type": "code",
   "execution_count": 30,
   "source": [
    "# CHOOSE MOST POPULOUS CITY FROM RETURNED LIST OF CITIES\r\n",
    "test_city = 'Boston'\r\n",
    "matches = gc.GeonamesCache().get_cities_by_name(test_city)\r\n",
    "\r\n",
    "# pull the nested dictionaries out, i.e. get rid of the IDs for each city \r\n",
    "matches = [{key: value for key, value in list(match.values())[0].items()} for match in matches]\r\n",
    "\r\n",
    "# run sorting algorithm with the key as population number\r\n",
    "# reverse so that highest population is on top\r\n",
    "matches = sorted(matches, key=lambda x: x['population'], reverse=True)\r\n",
    "matches"
   ],
   "outputs": [
    {
     "output_type": "execute_result",
     "data": {
      "text/plain": [
       "[{'geonameid': 4930956,\n",
       "  'name': 'Boston',\n",
       "  'latitude': 42.35843,\n",
       "  'longitude': -71.05977,\n",
       "  'countrycode': 'US',\n",
       "  'population': 667137,\n",
       "  'timezone': 'America/New_York',\n",
       "  'admin1code': 'MA',\n",
       "  'alternatenames': ['BOS',\n",
       "   'Baston',\n",
       "   'Bostan',\n",
       "   'Boston',\n",
       "   'Bostona',\n",
       "   'Bostonas',\n",
       "   'Bostone',\n",
       "   'Bostonia',\n",
       "   'Bostono',\n",
       "   'Bostons',\n",
       "   'Bostun',\n",
       "   'Bostún',\n",
       "   'Mushauwomuk',\n",
       "   'Old Boston',\n",
       "   'Po-su-tun',\n",
       "   'Pokekona',\n",
       "   'Pô-sṳ-tun',\n",
       "   'Shawmut',\n",
       "   'Shawmutt',\n",
       "   'Shawnnut',\n",
       "   'Totant',\n",
       "   'Tramount',\n",
       "   'Tremont',\n",
       "   'Trimountain',\n",
       "   'Trimountaine',\n",
       "   'Vostoni',\n",
       "   'Wahstoronon:ke',\n",
       "   'Wahstoronòn:ke',\n",
       "   'Wastok',\n",
       "   'bastan',\n",
       "   'bastana',\n",
       "   'bausatana',\n",
       "   'beasrraൺ',\n",
       "   'bo shi dun',\n",
       "   'boseuteon',\n",
       "   'bostan',\n",
       "   'bostana',\n",
       "   'bostʼoni',\n",
       "   'bosuton',\n",
       "   'bwstn',\n",
       "   'bwstwn',\n",
       "   'bxstan',\n",
       "   'pastan',\n",
       "   'Βοστωνη',\n",
       "   'Βοστώνη',\n",
       "   'Бостан',\n",
       "   'Бостон',\n",
       "   'Бостън',\n",
       "   'Բոստոն',\n",
       "   'באסטאן',\n",
       "   'בוסטון',\n",
       "   'بوستون',\n",
       "   'بوسطن',\n",
       "   'بوسٹن',\n",
       "   'بۆستن',\n",
       "   'ܒܘܣܛܘܢ',\n",
       "   'बस्तन',\n",
       "   'बास्टन्',\n",
       "   'बॉस्टन',\n",
       "   'बोस्टन',\n",
       "   'বস্টন',\n",
       "   'ਬੌਸਟਨ',\n",
       "   'பாஸ்டன்',\n",
       "   'బోస్టన్',\n",
       "   'ಬಾಸ್ಟನ್',\n",
       "   'ബോസ്റ്റൺ',\n",
       "   'บอสตัน',\n",
       "   'བོ་སེ་ཊོན།',\n",
       "   'ဘော့စတွန်မြို့',\n",
       "   'ბოსტონი',\n",
       "   'ቦስቶን',\n",
       "   'ボストン',\n",
       "   '波士頓',\n",
       "   '波士顿',\n",
       "   '보스턴']},\n",
       " {'geonameid': 2655138,\n",
       "  'name': 'Boston',\n",
       "  'latitude': 52.97633,\n",
       "  'longitude': -0.02664,\n",
       "  'countrycode': 'GB',\n",
       "  'population': 41340,\n",
       "  'timezone': 'Europe/London',\n",
       "  'admin1code': 'ENG',\n",
       "  'alternatenames': ['Boston',\n",
       "   'Boston i England',\n",
       "   'Bostonas',\n",
       "   'boseuteon',\n",
       "   'bosuton',\n",
       "   'bwstn',\n",
       "   'Бостон',\n",
       "   'بوستون، لینکلن\\u200cشر',\n",
       "   'بوسطن',\n",
       "   'ボストン',\n",
       "   '보스턴']}]"
      ]
     },
     "metadata": {},
     "execution_count": 30
    }
   ],
   "metadata": {}
  },
  {
   "cell_type": "code",
   "execution_count": 32,
   "source": [
    "# FIND CITY LOCATIONS\r\n",
    "\r\n",
    "city_locations = []\r\n",
    "\r\n",
    "# iterate through accented cities\r\n",
    "for city in df['Accented_cities']:\r\n",
    "    # check against matches\r\n",
    "    matches = gc.GeonamesCache().get_cities_by_name(city)\r\n",
    "    \r\n",
    "    # if there is match, get rid of outer nested dict and sort\r\n",
    "    if matches:\r\n",
    "        # convert each dict to list then grab all items\r\n",
    "        matches = [{key: value for key, value in list(match.values())[0].items()} for match in matches]\r\n",
    "        matches = sorted(matches, key= lambda x: x['population'], reverse=True)\r\n",
    "\r\n",
    "        # set the match as the first in list which has been sorted\r\n",
    "        match = matches[0]\r\n",
    "\r\n",
    "        # record information as dictionary\r\n",
    "        city_locations.append(\r\n",
    "            {\r\n",
    "                'name': match['name'],\r\n",
    "                'latitude': match['latitude'],\r\n",
    "                'longitude': match['longitude'],\r\n",
    "                'countrycode': match['countrycode'],\r\n",
    "                'population': match['population'],\r\n",
    "            }\r\n",
    "        )\r\n"
   ],
   "outputs": [],
   "metadata": {}
  },
  {
   "cell_type": "code",
   "execution_count": 33,
   "source": [
    "# check\r\n",
    "city_locations[:5]"
   ],
   "outputs": [
    {
     "output_type": "execute_result",
     "data": {
      "text/plain": [
       "[{'name': 'Miami',\n",
       "  'latitude': 25.77427,\n",
       "  'longitude': -80.19366,\n",
       "  'countrycode': 'US',\n",
       "  'population': 441003},\n",
       " {'name': 'New York City',\n",
       "  'latitude': 40.71427,\n",
       "  'longitude': -74.00597,\n",
       "  'countrycode': 'US',\n",
       "  'population': 8175133},\n",
       " {'name': 'Miami Beach',\n",
       "  'latitude': 25.79065,\n",
       "  'longitude': -80.13005,\n",
       "  'countrycode': 'US',\n",
       "  'population': 92312},\n",
       " {'name': 'Recife',\n",
       "  'latitude': -8.05389,\n",
       "  'longitude': -34.88111,\n",
       "  'countrycode': 'BR',\n",
       "  'population': 1478098},\n",
       " {'name': 'Dallas',\n",
       "  'latitude': 32.78306,\n",
       "  'longitude': -96.80667,\n",
       "  'countrycode': 'US',\n",
       "  'population': 1300092}]"
      ]
     },
     "metadata": {},
     "execution_count": 33
    }
   ],
   "metadata": {}
  },
  {
   "cell_type": "code",
   "execution_count": 34,
   "source": [
    "# convert list of dictionaries to df\r\n",
    "city_locations = pd.DataFrame(city_locations)\r\n",
    "city_locations.head()"
   ],
   "outputs": [
    {
     "output_type": "execute_result",
     "data": {
      "text/plain": [
       "            name  latitude  longitude countrycode  population\n",
       "0          Miami  25.77427  -80.19366          US      441003\n",
       "1  New York City  40.71427  -74.00597          US     8175133\n",
       "2    Miami Beach  25.79065  -80.13005          US       92312\n",
       "3         Recife  -8.05389  -34.88111          BR     1478098\n",
       "4         Dallas  32.78306  -96.80667          US     1300092"
      ],
      "text/html": [
       "<div>\n",
       "<style scoped>\n",
       "    .dataframe tbody tr th:only-of-type {\n",
       "        vertical-align: middle;\n",
       "    }\n",
       "\n",
       "    .dataframe tbody tr th {\n",
       "        vertical-align: top;\n",
       "    }\n",
       "\n",
       "    .dataframe thead th {\n",
       "        text-align: right;\n",
       "    }\n",
       "</style>\n",
       "<table border=\"1\" class=\"dataframe\">\n",
       "  <thead>\n",
       "    <tr style=\"text-align: right;\">\n",
       "      <th></th>\n",
       "      <th>name</th>\n",
       "      <th>latitude</th>\n",
       "      <th>longitude</th>\n",
       "      <th>countrycode</th>\n",
       "      <th>population</th>\n",
       "    </tr>\n",
       "  </thead>\n",
       "  <tbody>\n",
       "    <tr>\n",
       "      <th>0</th>\n",
       "      <td>Miami</td>\n",
       "      <td>25.77427</td>\n",
       "      <td>-80.19366</td>\n",
       "      <td>US</td>\n",
       "      <td>441003</td>\n",
       "    </tr>\n",
       "    <tr>\n",
       "      <th>1</th>\n",
       "      <td>New York City</td>\n",
       "      <td>40.71427</td>\n",
       "      <td>-74.00597</td>\n",
       "      <td>US</td>\n",
       "      <td>8175133</td>\n",
       "    </tr>\n",
       "    <tr>\n",
       "      <th>2</th>\n",
       "      <td>Miami Beach</td>\n",
       "      <td>25.79065</td>\n",
       "      <td>-80.13005</td>\n",
       "      <td>US</td>\n",
       "      <td>92312</td>\n",
       "    </tr>\n",
       "    <tr>\n",
       "      <th>3</th>\n",
       "      <td>Recife</td>\n",
       "      <td>-8.05389</td>\n",
       "      <td>-34.88111</td>\n",
       "      <td>BR</td>\n",
       "      <td>1478098</td>\n",
       "    </tr>\n",
       "    <tr>\n",
       "      <th>4</th>\n",
       "      <td>Dallas</td>\n",
       "      <td>32.78306</td>\n",
       "      <td>-96.80667</td>\n",
       "      <td>US</td>\n",
       "      <td>1300092</td>\n",
       "    </tr>\n",
       "  </tbody>\n",
       "</table>\n",
       "</div>"
      ]
     },
     "metadata": {},
     "execution_count": 34
    }
   ],
   "metadata": {}
  },
  {
   "cell_type": "code",
   "execution_count": 35,
   "source": [
    "# drop duplications\r\n",
    "city_locations = city_locations.drop_duplicates()"
   ],
   "outputs": [],
   "metadata": {}
  },
  {
   "cell_type": "code",
   "execution_count": 36,
   "source": [
    "city_locations.nunique()"
   ],
   "outputs": [
    {
     "output_type": "execute_result",
     "data": {
      "text/plain": [
       "name           573\n",
       "latitude       573\n",
       "longitude      573\n",
       "countrycode     94\n",
       "population     570\n",
       "dtype: int64"
      ]
     },
     "metadata": {},
     "execution_count": 36
    }
   ],
   "metadata": {}
  },
  {
   "cell_type": "code",
   "execution_count": 37,
   "source": [
    "# merge the two dfs\r\n",
    "df = pd.merge(df, city_locations, left_on='Accented_cities', right_on='name', how='left')\r\n",
    "df.head()"
   ],
   "outputs": [
    {
     "output_type": "execute_result",
     "data": {
      "text/plain": [
       "                                  Headline Countries         Cities  \\\n",
       "0                 Zika Outbreak Hits Miami       NaN          Miami   \n",
       "1          Could Zika Reach New York City?       NaN  New York City   \n",
       "2        First Case of Zika in Miami Beach       NaN    Miami Beach   \n",
       "3  Mystery Virus Spreads in Recife, Brazil    Brazil         Recife   \n",
       "4  Dallas man comes down with case of Zika       NaN         Dallas   \n",
       "\n",
       "  Accented_cities           name  latitude  longitude countrycode  population  \n",
       "0           Miami          Miami  25.77427  -80.19366          US    441003.0  \n",
       "1   New York City  New York City  40.71427  -74.00597          US   8175133.0  \n",
       "2     Miami Beach    Miami Beach  25.79065  -80.13005          US     92312.0  \n",
       "3          Recife         Recife  -8.05389  -34.88111          BR   1478098.0  \n",
       "4          Dallas         Dallas  32.78306  -96.80667          US   1300092.0  "
      ],
      "text/html": [
       "<div>\n",
       "<style scoped>\n",
       "    .dataframe tbody tr th:only-of-type {\n",
       "        vertical-align: middle;\n",
       "    }\n",
       "\n",
       "    .dataframe tbody tr th {\n",
       "        vertical-align: top;\n",
       "    }\n",
       "\n",
       "    .dataframe thead th {\n",
       "        text-align: right;\n",
       "    }\n",
       "</style>\n",
       "<table border=\"1\" class=\"dataframe\">\n",
       "  <thead>\n",
       "    <tr style=\"text-align: right;\">\n",
       "      <th></th>\n",
       "      <th>Headline</th>\n",
       "      <th>Countries</th>\n",
       "      <th>Cities</th>\n",
       "      <th>Accented_cities</th>\n",
       "      <th>name</th>\n",
       "      <th>latitude</th>\n",
       "      <th>longitude</th>\n",
       "      <th>countrycode</th>\n",
       "      <th>population</th>\n",
       "    </tr>\n",
       "  </thead>\n",
       "  <tbody>\n",
       "    <tr>\n",
       "      <th>0</th>\n",
       "      <td>Zika Outbreak Hits Miami</td>\n",
       "      <td>NaN</td>\n",
       "      <td>Miami</td>\n",
       "      <td>Miami</td>\n",
       "      <td>Miami</td>\n",
       "      <td>25.77427</td>\n",
       "      <td>-80.19366</td>\n",
       "      <td>US</td>\n",
       "      <td>441003.0</td>\n",
       "    </tr>\n",
       "    <tr>\n",
       "      <th>1</th>\n",
       "      <td>Could Zika Reach New York City?</td>\n",
       "      <td>NaN</td>\n",
       "      <td>New York City</td>\n",
       "      <td>New York City</td>\n",
       "      <td>New York City</td>\n",
       "      <td>40.71427</td>\n",
       "      <td>-74.00597</td>\n",
       "      <td>US</td>\n",
       "      <td>8175133.0</td>\n",
       "    </tr>\n",
       "    <tr>\n",
       "      <th>2</th>\n",
       "      <td>First Case of Zika in Miami Beach</td>\n",
       "      <td>NaN</td>\n",
       "      <td>Miami Beach</td>\n",
       "      <td>Miami Beach</td>\n",
       "      <td>Miami Beach</td>\n",
       "      <td>25.79065</td>\n",
       "      <td>-80.13005</td>\n",
       "      <td>US</td>\n",
       "      <td>92312.0</td>\n",
       "    </tr>\n",
       "    <tr>\n",
       "      <th>3</th>\n",
       "      <td>Mystery Virus Spreads in Recife, Brazil</td>\n",
       "      <td>Brazil</td>\n",
       "      <td>Recife</td>\n",
       "      <td>Recife</td>\n",
       "      <td>Recife</td>\n",
       "      <td>-8.05389</td>\n",
       "      <td>-34.88111</td>\n",
       "      <td>BR</td>\n",
       "      <td>1478098.0</td>\n",
       "    </tr>\n",
       "    <tr>\n",
       "      <th>4</th>\n",
       "      <td>Dallas man comes down with case of Zika</td>\n",
       "      <td>NaN</td>\n",
       "      <td>Dallas</td>\n",
       "      <td>Dallas</td>\n",
       "      <td>Dallas</td>\n",
       "      <td>32.78306</td>\n",
       "      <td>-96.80667</td>\n",
       "      <td>US</td>\n",
       "      <td>1300092.0</td>\n",
       "    </tr>\n",
       "  </tbody>\n",
       "</table>\n",
       "</div>"
      ]
     },
     "metadata": {},
     "execution_count": 37
    }
   ],
   "metadata": {}
  },
  {
   "cell_type": "code",
   "execution_count": 38,
   "source": [
    "df[df['Cities'] == 'Boston']"
   ],
   "outputs": [
    {
     "output_type": "execute_result",
     "data": {
      "text/plain": [
       "                  Headline Countries  Cities Accented_cities    name  \\\n",
       "27  Flu season hits Boston       NaN  Boston          Boston  Boston   \n",
       "\n",
       "    latitude  longitude countrycode  population  \n",
       "27  42.35843  -71.05977          US    667137.0  "
      ],
      "text/html": [
       "<div>\n",
       "<style scoped>\n",
       "    .dataframe tbody tr th:only-of-type {\n",
       "        vertical-align: middle;\n",
       "    }\n",
       "\n",
       "    .dataframe tbody tr th {\n",
       "        vertical-align: top;\n",
       "    }\n",
       "\n",
       "    .dataframe thead th {\n",
       "        text-align: right;\n",
       "    }\n",
       "</style>\n",
       "<table border=\"1\" class=\"dataframe\">\n",
       "  <thead>\n",
       "    <tr style=\"text-align: right;\">\n",
       "      <th></th>\n",
       "      <th>Headline</th>\n",
       "      <th>Countries</th>\n",
       "      <th>Cities</th>\n",
       "      <th>Accented_cities</th>\n",
       "      <th>name</th>\n",
       "      <th>latitude</th>\n",
       "      <th>longitude</th>\n",
       "      <th>countrycode</th>\n",
       "      <th>population</th>\n",
       "    </tr>\n",
       "  </thead>\n",
       "  <tbody>\n",
       "    <tr>\n",
       "      <th>27</th>\n",
       "      <td>Flu season hits Boston</td>\n",
       "      <td>NaN</td>\n",
       "      <td>Boston</td>\n",
       "      <td>Boston</td>\n",
       "      <td>Boston</td>\n",
       "      <td>42.35843</td>\n",
       "      <td>-71.05977</td>\n",
       "      <td>US</td>\n",
       "      <td>667137.0</td>\n",
       "    </tr>\n",
       "  </tbody>\n",
       "</table>\n",
       "</div>"
      ]
     },
     "metadata": {},
     "execution_count": 38
    }
   ],
   "metadata": {}
  },
  {
   "cell_type": "code",
   "execution_count": 39,
   "source": [
    "# CLEAN DATA\r\n",
    "\r\n",
    "# check what kind of data is missing\r\n",
    "_ = df.isna().sum().plot.bar(title='Missing Values by Column')"
   ],
   "outputs": [
    {
     "output_type": "display_data",
     "data": {
      "text/plain": [
       "<Figure size 432x288 with 1 Axes>"
      ],
      "image/png": "[encoded data removed]"
     },
     "metadata": {
      "needs_background": "light"
     }
    }
   ],
   "metadata": {}
  },
  {
   "cell_type": "code",
   "execution_count": 40,
   "source": [
    "# drop countries column as it doesn't give us much info\r\n",
    "df = df.drop(columns=['Countries'])"
   ],
   "outputs": [],
   "metadata": {}
  },
  {
   "cell_type": "code",
   "execution_count": 42,
   "source": [
    "# check headlines which no city names\r\n",
    "pd.options.display.max_colwidth = 100\r\n",
    "\r\n",
    "# make a copy of df with no cities\r\n",
    "no_names = df[df['name'].isna()].copy()\r\n",
    "\r\n",
    "print('{} headlines without a city'.format(len(no_names)))\r\n",
    "no_names.tail()"
   ],
   "outputs": [
    {
     "output_type": "stream",
     "name": "stdout",
     "text": [
      "44 headlines without a city\n"
     ]
    },
    {
     "output_type": "execute_result",
     "data": {
      "text/plain": [
       "                                                         Headline Cities  \\\n",
       "596                                      Zika arrives in Dangriga    NaN   \n",
       "601  More Patients in Maynard are Getting Diagnosed with Syphilis    NaN   \n",
       "625                               Zika case reported in Antioquia    NaN   \n",
       "627                          Chikungunya has not Left Pismo Beach    NaN   \n",
       "628                                       Zika spreads to La Joya    NaN   \n",
       "\n",
       "    Accented_cities name  latitude  longitude countrycode  population  \n",
       "596             NaN  NaN       NaN        NaN         NaN         NaN  \n",
       "601             NaN  NaN       NaN        NaN         NaN         NaN  \n",
       "625             NaN  NaN       NaN        NaN         NaN         NaN  \n",
       "627             NaN  NaN       NaN        NaN         NaN         NaN  \n",
       "628             NaN  NaN       NaN        NaN         NaN         NaN  "
      ],
      "text/html": [
       "<div>\n",
       "<style scoped>\n",
       "    .dataframe tbody tr th:only-of-type {\n",
       "        vertical-align: middle;\n",
       "    }\n",
       "\n",
       "    .dataframe tbody tr th {\n",
       "        vertical-align: top;\n",
       "    }\n",
       "\n",
       "    .dataframe thead th {\n",
       "        text-align: right;\n",
       "    }\n",
       "</style>\n",
       "<table border=\"1\" class=\"dataframe\">\n",
       "  <thead>\n",
       "    <tr style=\"text-align: right;\">\n",
       "      <th></th>\n",
       "      <th>Headline</th>\n",
       "      <th>Cities</th>\n",
       "      <th>Accented_cities</th>\n",
       "      <th>name</th>\n",
       "      <th>latitude</th>\n",
       "      <th>longitude</th>\n",
       "      <th>countrycode</th>\n",
       "      <th>population</th>\n",
       "    </tr>\n",
       "  </thead>\n",
       "  <tbody>\n",
       "    <tr>\n",
       "      <th>596</th>\n",
       "      <td>Zika arrives in Dangriga</td>\n",
       "      <td>NaN</td>\n",
       "      <td>NaN</td>\n",
       "      <td>NaN</td>\n",
       "      <td>NaN</td>\n",
       "      <td>NaN</td>\n",
       "      <td>NaN</td>\n",
       "      <td>NaN</td>\n",
       "    </tr>\n",
       "    <tr>\n",
       "      <th>601</th>\n",
       "      <td>More Patients in Maynard are Getting Diagnosed with Syphilis</td>\n",
       "      <td>NaN</td>\n",
       "      <td>NaN</td>\n",
       "      <td>NaN</td>\n",
       "      <td>NaN</td>\n",
       "      <td>NaN</td>\n",
       "      <td>NaN</td>\n",
       "      <td>NaN</td>\n",
       "    </tr>\n",
       "    <tr>\n",
       "      <th>625</th>\n",
       "      <td>Zika case reported in Antioquia</td>\n",
       "      <td>NaN</td>\n",
       "      <td>NaN</td>\n",
       "      <td>NaN</td>\n",
       "      <td>NaN</td>\n",
       "      <td>NaN</td>\n",
       "      <td>NaN</td>\n",
       "      <td>NaN</td>\n",
       "    </tr>\n",
       "    <tr>\n",
       "      <th>627</th>\n",
       "      <td>Chikungunya has not Left Pismo Beach</td>\n",
       "      <td>NaN</td>\n",
       "      <td>NaN</td>\n",
       "      <td>NaN</td>\n",
       "      <td>NaN</td>\n",
       "      <td>NaN</td>\n",
       "      <td>NaN</td>\n",
       "      <td>NaN</td>\n",
       "    </tr>\n",
       "    <tr>\n",
       "      <th>628</th>\n",
       "      <td>Zika spreads to La Joya</td>\n",
       "      <td>NaN</td>\n",
       "      <td>NaN</td>\n",
       "      <td>NaN</td>\n",
       "      <td>NaN</td>\n",
       "      <td>NaN</td>\n",
       "      <td>NaN</td>\n",
       "      <td>NaN</td>\n",
       "    </tr>\n",
       "  </tbody>\n",
       "</table>\n",
       "</div>"
      ]
     },
     "metadata": {},
     "execution_count": 42
    }
   ],
   "metadata": {}
  },
  {
   "cell_type": "code",
   "execution_count": 43,
   "source": [
    "# manually check against mapping\r\n",
    "city_set = set(city_accent_mapping.keys())\r\n",
    "\r\n",
    "for city in ['Dangriga', 'Maynard', 'Antioquia', 'Pismo Beach', 'La Joya']:\r\n",
    "    if city in city_set:\r\n",
    "        print('Found', city)\r\n",
    "    else:\r\n",
    "        print('Did not find')"
   ],
   "outputs": [
    {
     "output_type": "stream",
     "name": "stdout",
     "text": [
      "Did not find\n",
      "Did not find\n",
      "Did not find\n",
      "Did not find\n",
      "Did not find\n"
     ]
    }
   ],
   "metadata": {}
  },
  {
   "cell_type": "code",
   "execution_count": 44,
   "source": [
    "# remove these rows with no cities\r\n",
    "df = df.dropna(subset=['name'])"
   ],
   "outputs": [],
   "metadata": {}
  },
  {
   "cell_type": "code",
   "execution_count": 48,
   "source": [
    "print(len(df))"
   ],
   "outputs": [
    {
     "output_type": "stream",
     "name": "stdout",
     "text": [
      "603\n"
     ]
    }
   ],
   "metadata": {}
  },
  {
   "cell_type": "code",
   "execution_count": 50,
   "source": [
    "_ = df['population'].plot.hist(title='Histogram of Population')"
   ],
   "outputs": [
    {
     "output_type": "display_data",
     "data": {
      "text/plain": [
       "<Figure size 432x288 with 1 Axes>"
      ],
      "image/png": "[encoded data removed]"
     },
     "metadata": {
      "needs_background": "light"
     }
    }
   ],
   "metadata": {}
  },
  {
   "cell_type": "code",
   "execution_count": 51,
   "source": [
    "_ = df.plot.scatter(x='longitude', y='latitude', title='Scatterplot of Latitude and Longitude')"
   ],
   "outputs": [
    {
     "output_type": "display_data",
     "data": {
      "text/plain": [
       "<Figure size 432x288 with 1 Axes>"
      ],
      "image/png": "[encoded data removed]"
     },
     "metadata": {
      "needs_background": "light"
     }
    }
   ],
   "metadata": {}
  },
  {
   "cell_type": "code",
   "execution_count": 52,
   "source": [
    "# remove name column\r\n",
    "df = df.drop(columns=['name'])\r\n",
    "df.head()"
   ],
   "outputs": [
    {
     "output_type": "execute_result",
     "data": {
      "text/plain": [
       "                                  Headline         Cities Accented_cities  \\\n",
       "0                 Zika Outbreak Hits Miami          Miami           Miami   \n",
       "1          Could Zika Reach New York City?  New York City   New York City   \n",
       "2        First Case of Zika in Miami Beach    Miami Beach     Miami Beach   \n",
       "3  Mystery Virus Spreads in Recife, Brazil         Recife          Recife   \n",
       "4  Dallas man comes down with case of Zika         Dallas          Dallas   \n",
       "\n",
       "   latitude  longitude countrycode  population  \n",
       "0  25.77427  -80.19366          US    441003.0  \n",
       "1  40.71427  -74.00597          US   8175133.0  \n",
       "2  25.79065  -80.13005          US     92312.0  \n",
       "3  -8.05389  -34.88111          BR   1478098.0  \n",
       "4  32.78306  -96.80667          US   1300092.0  "
      ],
      "text/html": [
       "<div>\n",
       "<style scoped>\n",
       "    .dataframe tbody tr th:only-of-type {\n",
       "        vertical-align: middle;\n",
       "    }\n",
       "\n",
       "    .dataframe tbody tr th {\n",
       "        vertical-align: top;\n",
       "    }\n",
       "\n",
       "    .dataframe thead th {\n",
       "        text-align: right;\n",
       "    }\n",
       "</style>\n",
       "<table border=\"1\" class=\"dataframe\">\n",
       "  <thead>\n",
       "    <tr style=\"text-align: right;\">\n",
       "      <th></th>\n",
       "      <th>Headline</th>\n",
       "      <th>Cities</th>\n",
       "      <th>Accented_cities</th>\n",
       "      <th>latitude</th>\n",
       "      <th>longitude</th>\n",
       "      <th>countrycode</th>\n",
       "      <th>population</th>\n",
       "    </tr>\n",
       "  </thead>\n",
       "  <tbody>\n",
       "    <tr>\n",
       "      <th>0</th>\n",
       "      <td>Zika Outbreak Hits Miami</td>\n",
       "      <td>Miami</td>\n",
       "      <td>Miami</td>\n",
       "      <td>25.77427</td>\n",
       "      <td>-80.19366</td>\n",
       "      <td>US</td>\n",
       "      <td>441003.0</td>\n",
       "    </tr>\n",
       "    <tr>\n",
       "      <th>1</th>\n",
       "      <td>Could Zika Reach New York City?</td>\n",
       "      <td>New York City</td>\n",
       "      <td>New York City</td>\n",
       "      <td>40.71427</td>\n",
       "      <td>-74.00597</td>\n",
       "      <td>US</td>\n",
       "      <td>8175133.0</td>\n",
       "    </tr>\n",
       "    <tr>\n",
       "      <th>2</th>\n",
       "      <td>First Case of Zika in Miami Beach</td>\n",
       "      <td>Miami Beach</td>\n",
       "      <td>Miami Beach</td>\n",
       "      <td>25.79065</td>\n",
       "      <td>-80.13005</td>\n",
       "      <td>US</td>\n",
       "      <td>92312.0</td>\n",
       "    </tr>\n",
       "    <tr>\n",
       "      <th>3</th>\n",
       "      <td>Mystery Virus Spreads in Recife, Brazil</td>\n",
       "      <td>Recife</td>\n",
       "      <td>Recife</td>\n",
       "      <td>-8.05389</td>\n",
       "      <td>-34.88111</td>\n",
       "      <td>BR</td>\n",
       "      <td>1478098.0</td>\n",
       "    </tr>\n",
       "    <tr>\n",
       "      <th>4</th>\n",
       "      <td>Dallas man comes down with case of Zika</td>\n",
       "      <td>Dallas</td>\n",
       "      <td>Dallas</td>\n",
       "      <td>32.78306</td>\n",
       "      <td>-96.80667</td>\n",
       "      <td>US</td>\n",
       "      <td>1300092.0</td>\n",
       "    </tr>\n",
       "  </tbody>\n",
       "</table>\n",
       "</div>"
      ]
     },
     "metadata": {},
     "execution_count": 52
    }
   ],
   "metadata": {}
  },
  {
   "cell_type": "code",
   "execution_count": 53,
   "source": [
    "# save data\r\n",
    "df.to_csv('processed_headline_locations.csv')"
   ],
   "outputs": [],
   "metadata": {}
  },
  {
   "cell_type": "code",
   "execution_count": null,
   "source": [],
   "outputs": [],
   "metadata": {}
  }
 ],
 "metadata": {
  "orig_nbformat": 4,
  "language_info": {
   "name": "python",
   "version": "3.8.0",
   "mimetype": "text/x-python",
   "codemirror_mode": {
    "name": "ipython",
    "version": 3
   },
   "pygments_lexer": "ipython3",
   "nbconvert_exporter": "python",
   "file_extension": ".py"
  },
  "kernelspec": {
   "name": "python3",
   "display_name": "Python 3.8.0 64-bit"
  },
  "interpreter": {
   "hash": "659c044ffe13275d66d4e268d487f51135cc4f95cec06971d72abf50b0cef6b1"
  }
 },
 "nbformat": 4,
 "nbformat_minor": 2
}