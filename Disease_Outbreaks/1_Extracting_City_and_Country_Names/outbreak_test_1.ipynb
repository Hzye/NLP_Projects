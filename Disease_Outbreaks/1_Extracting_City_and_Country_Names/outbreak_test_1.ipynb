{
 "cells": [
  {
   "cell_type": "code",
   "execution_count": null,
   "source": [
    "import re # text extration regex\r\n",
    "import pandas as pd # data manipulation and analysis\r\n",
    "import matplotlib as plt # general visualisation\r\n",
    "import geonamescache as gc # identify cities and countries and their location\r\n",
    "#from matplotlib import basemap # geographical visualisation\r\n",
    "from collections import Counter # check duplicates in dictionary\r\n",
    "import unidecode # handling accent marks, editing text"
   ],
   "outputs": [],
   "metadata": {}
  },
  {
   "cell_type": "code",
   "execution_count": null,
   "source": [
    "# load in headline data\r\n",
    "df = pd.read_csv('headlines.txt', delimiter='\\t', header=0)\r\n",
    "\r\n",
    "# potential problems?\r\n",
    "# - different outbreaks\r\n",
    "# - places consist of cities/countries\r\n",
    "\r\n",
    "# get country names\r\n",
    "countries = gc.GeonamesCache().get_countries()\r\n",
    "\r\n",
    "# get city names\r\n",
    "cities = gc.GeonamesCache().get_cities()\r\n"
   ],
   "outputs": [],
   "metadata": {}
  },
  {
   "cell_type": "code",
   "execution_count": null,
   "source": [
    "def check_country(line):\r\n",
    "    # checks each line of headlines.txt using .apply() method\r\n",
    "    # input: each line of txt\r\n",
    "    # output: country names that appear\r\n",
    "    \r\n",
    "    for country_key, country_value in countries.items():\r\n",
    "        if country_value['name'] in line:\r\n",
    "            return(country_value['name'])"
   ],
   "outputs": [],
   "metadata": {}
  },
  {
   "cell_type": "code",
   "execution_count": null,
   "source": [
    "def check_city(line):\r\n",
    "    # checks each line of headlines.txt using .apply() method\r\n",
    "    # input: each line of txt\r\n",
    "    # output: country names that appear\r\n",
    "    \r\n",
    "    for city_key, city_value in cities.items():\r\n",
    "        if city_value['name'] in line:\r\n",
    "            return(city_value['name'])"
   ],
   "outputs": [],
   "metadata": {}
  },
  {
   "cell_type": "code",
   "execution_count": null,
   "source": [
    "# save countries that occur in df_countries\r\n",
    "df_countries = df['Headlines'].apply(check_country)\r\n",
    "\r\n",
    "df_countries"
   ],
   "outputs": [],
   "metadata": {}
  },
  {
   "cell_type": "code",
   "execution_count": null,
   "source": [
    "df_cities = df['Headlines'].apply(check_city)\r\n",
    "\r\n",
    "df_cities"
   ],
   "outputs": [],
   "metadata": {}
  },
  {
   "cell_type": "code",
   "execution_count": null,
   "source": [
    "df['City'] = df_cities\r\n",
    "df['Country'] = df_countries\r\n",
    "\r\n",
    "df"
   ],
   "outputs": [],
   "metadata": {}
  }
 ],
 "metadata": {
  "orig_nbformat": 4,
  "language_info": {
   "name": "python"
  }
 },
 "nbformat": 4,
 "nbformat_minor": 2
}