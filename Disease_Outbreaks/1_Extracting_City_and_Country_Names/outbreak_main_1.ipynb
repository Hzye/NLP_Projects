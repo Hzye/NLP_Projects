{
 "cells": [
  {
   "cell_type": "code",
   "execution_count": 81,
   "source": [
    "import re # text extration regex\r\n",
    "import pandas as pd # data manipulation and analysis\r\n",
    "import numpy as np\r\n",
    "import matplotlib as plt # general visualisation\r\n",
    "import geonamescache as gc # identify cities and countries and their location\r\n",
    "#from matplotlib import basemap # geographical visualisation\r\n",
    "from collections import Counter # check duplicates in dictionary\r\n",
    "import unidecode # handling accent marks, editing text\r\n",
    "import json # saving data"
   ],
   "outputs": [],
   "metadata": {}
  },
  {
   "cell_type": "code",
   "execution_count": 12,
   "source": [
    "# inport data as list\r\n",
    "# strip off newline marks \r\n",
    "with open('headlines.txt') as file:\r\n",
    "    data = [headline.strip() for headline in file]\r\n",
    "\r\n",
    "# show first 5 rows\r\n",
    "data[:5]"
   ],
   "outputs": [
    {
     "output_type": "execute_result",
     "data": {
      "text/plain": [
       "['Zika Outbreak Hits Miami',\n",
       " 'Could Zika Reach New York City?',\n",
       " 'First Case of Zika in Miami Beach',\n",
       " 'Mystery Virus Spreads in Recife, Brazil',\n",
       " 'Dallas man comes down with case of Zika']"
      ]
     },
     "metadata": {},
     "execution_count": 12
    }
   ],
   "metadata": {}
  },
  {
   "cell_type": "code",
   "execution_count": 15,
   "source": [
    "# GET COUNTRY NAMES\r\n",
    "# save ONLY country name in each entry in countries\r\n",
    "# .values() retunrs list of all values available in dictionary\r\n",
    "countries = [country['name'] for country in gc.GeonamesCache().get_countries().values()]\r\n",
    "\r\n",
    "# show first 5 rows\r\n",
    "countries[:5]"
   ],
   "outputs": [
    {
     "output_type": "execute_result",
     "data": {
      "text/plain": [
       "['Andorra',\n",
       " 'United Arab Emirates',\n",
       " 'Afghanistan',\n",
       " 'Antigua and Barbuda',\n",
       " 'Anguilla']"
      ]
     },
     "metadata": {},
     "execution_count": 15
    }
   ],
   "metadata": {}
  },
  {
   "cell_type": "code",
   "execution_count": 18,
   "source": [
    "# GET CITY NAMES\r\n",
    "# save ONLY city names\r\n",
    "cities = [city['name'] for city in gc.GeonamesCache().get_cities().values()]\r\n",
    "\r\n",
    "# show first 5 rows\r\n",
    "cities[:5]"
   ],
   "outputs": [
    {
     "output_type": "execute_result",
     "data": {
      "text/plain": [
       "['Andorra la Vella',\n",
       " 'Umm Al Quwain City',\n",
       " 'Ras Al Khaimah City',\n",
       " 'Zayed City',\n",
       " 'Khawr Fakkān']"
      ]
     },
     "metadata": {},
     "execution_count": 18
    }
   ],
   "metadata": {}
  },
  {
   "cell_type": "code",
   "execution_count": 22,
   "source": [
    "# CHECK CITY DUPLICATES in package that are recored more than once \r\n",
    "city_tally = Counter(cities)\r\n",
    "\r\n",
    "\r\n",
    "city_tally.most_common(5)"
   ],
   "outputs": [
    {
     "output_type": "execute_result",
     "data": {
      "text/plain": [
       "[('San Fernando', 8),\n",
       " ('Springfield', 8),\n",
       " ('San Pedro', 7),\n",
       " ('Richmond', 7),\n",
       " ('Mercedes', 6)]"
      ]
     },
     "metadata": {},
     "execution_count": 22
    }
   ],
   "metadata": {}
  },
  {
   "cell_type": "code",
   "execution_count": 31,
   "source": [
    "# REMOVE ACCENT MARKS\r\n",
    "# unidecode.unidecode() method decodes text \r\n",
    "\r\n",
    "# create dictionary mapping unaccented country name to accented country name\r\n",
    "country_accent_map = {\r\n",
    "    unidecode.unidecode(country): country for country in countries\r\n",
    "}\r\n",
    "\r\n",
    "# create city dictionary\r\n",
    "city_accent_map = {\r\n",
    "    unidecode.unidecode(city): city for city in cities\r\n",
    "}\r\n",
    "\r\n",
    "#city_accent_map['Qarqin']\r\n",
    "\r\n",
    "# remove accents from headlines\r\n",
    "# apply same method to each line in data\r\n",
    "data = [unidecode.unidecode(headline) for headline in data]\r\n"
   ],
   "outputs": [],
   "metadata": {}
  },
  {
   "cell_type": "code",
   "execution_count": 37,
   "source": [
    "# SEARCH FOR CITY AND COUNTY NAMES IN HEADLINES\r\n",
    "# use regex created from accented cities and countries\r\n",
    "\r\n",
    "# list of cities and countries \r\n",
    "unaccented_cities = list(city_accent_map.keys())\r\n",
    "unaccented_countries = list(country_accent_map.keys())\r\n",
    "\r\n",
    "# length of list\r\n",
    "print(\"There are {} cities\".format(len(unaccented_cities)))\r\n",
    "print(\"There are {} countries\".format(len(unaccented_countries)))\r\n"
   ],
   "outputs": [
    {
     "output_type": "stream",
     "name": "stdout",
     "text": [
      "There are 23151 cities\n",
      "There are 252 countries\n"
     ]
    }
   ],
   "metadata": {}
  },
  {
   "cell_type": "code",
   "execution_count": 49,
   "source": [
    "# match entire word and match ENTIRE CITY NAME with regex\r\n",
    "# e.g. San and San Jose are both cities, but San Jose in headlines will be matched to San\r\n",
    "# set priority as longest name to shortest: Jose > San\r\n",
    "\r\n",
    "# sort entire lists with sorted()\r\n",
    "# key = has to be function applied to each element, returns values for checking,\r\n",
    "#       use key to check length\r\n",
    "# reverse = true so that longest at top of list\r\n",
    "unaccented_cities = sorted(unaccented_cities, key=lambda x: len(x), reverse=True)\r\n",
    "\r\n",
    "unaccented_cities[:5]"
   ],
   "outputs": [
    {
     "output_type": "execute_result",
     "data": {
      "text/plain": [
       "['Chak Two Hundred Forty-nine Thal Development Authority',\n",
       " 'Dolores Hidalgo Cuna de la Independencia Nacional',\n",
       " 'Ampliacion San Mateo (Colonia Solidaridad)',\n",
       " 'Licenciado Benito Juarez (Campo Gobierno)',\n",
       " 'Sant Pere, Santa Caterina i La Ribera']"
      ]
     },
     "metadata": {},
     "execution_count": 49
    }
   ],
   "metadata": {}
  },
  {
   "cell_type": "code",
   "execution_count": 50,
   "source": [
    "unaccented_countries = sorted(unaccented_countries, key=lambda x: len(x), reverse=True)\r\n",
    "unaccented_countries[:5]"
   ],
   "outputs": [
    {
     "output_type": "execute_result",
     "data": {
      "text/plain": [
       "['South Georgia and the South Sandwich Islands',\n",
       " 'United States Minor Outlying Islands',\n",
       " 'Bonaire, Saint Eustatius and Saba ',\n",
       " 'Heard Island and McDonald Islands',\n",
       " 'Democratic Republic of the Congo']"
      ]
     },
     "metadata": {},
     "execution_count": 50
    }
   ],
   "metadata": {}
  },
  {
   "cell_type": "code",
   "execution_count": 52,
   "source": [
    "# CONSTRUCT REGEX\r\n",
    "city_regex = r'\\b|\\b'.join(unaccented_cities)\r\n",
    "city_regex[0:500]"
   ],
   "outputs": [
    {
     "output_type": "execute_result",
     "data": {
      "text/plain": [
       "\"Chak Two Hundred Forty-nine Thal Development Authority\\\\b|\\\\bDolores Hidalgo Cuna de la Independencia Nacional\\\\b|\\\\bAmpliacion San Mateo (Colonia Solidaridad)\\\\b|\\\\bLicenciado Benito Juarez (Campo Gobierno)\\\\b|\\\\bSant Pere, Santa Caterina i La Ribera\\\\b|\\\\bPalikir - National Government Center\\\\b|\\\\bNanchital de Lazaro Cardenas del Rio\\\\b|\\\\bSan Fernando del Valle de Catamarca\\\\b|\\\\bDovercourt-Wallace Emerson-Junction\\\\b|\\\\bel Camp d'en Grassot i Gracia Nova\\\\b|\\\\bSan Martin Texmelucan de Labastida\\\\b|\\\\bWaterfront C\""
      ]
     },
     "metadata": {},
     "execution_count": 52
    }
   ],
   "metadata": {}
  },
  {
   "cell_type": "code",
   "execution_count": 65,
   "source": [
    "# test regex\r\n",
    "\r\n",
    "# init generator\r\n",
    "np.random.seed(5)\r\n",
    "\r\n",
    "# randomly select 10 headlines\r\n",
    "test_headlines = np.random.choice(data, 10)\r\n",
    "\r\n",
    "# find matching city name in each headline\r\n",
    "for test_headline in test_headlines:\r\n",
    "    match = re.search(city_regex, test_headline)\r\n",
    "    print(test_headline)\r\n",
    "    if match:\r\n",
    "        print(match.group(0), \"\\n\") #.group(0) returns ALL MATCHES"
   ],
   "outputs": [
    {
     "output_type": "stream",
     "name": "stdout",
     "text": [
      "Oxford tests new cure for HIV\n",
      "Oxford \n",
      "\n",
      "Spanish Flu Outbreak in Barcelona\n",
      "Barcelona \n",
      "\n",
      "Zika spreads to Lewisville\n",
      "Lewisville \n",
      "\n",
      "Zika case reported in Oton\n",
      "The CDC in Atlanta is Growing Worried\n",
      "Atlanta \n",
      "\n",
      "Rumors about Varicella spreading in Carlsbad have been refuted\n",
      "Carlsbad \n",
      "\n",
      "Hepatitis C Outbreak in Bethlehem\n",
      "Bethlehem \n",
      "\n",
      "Lower Hospitalization in Palm Springs after Hepatitis A Vaccine becomes Mandatory\n",
      "Palm Springs \n",
      "\n",
      "More Zika patients reported in Davao\n",
      "Davao \n",
      "\n",
      "Birmingham Residents Recieve Rabies vaccine\n",
      "Birmingham \n",
      "\n"
     ]
    }
   ],
   "metadata": {}
  },
  {
   "cell_type": "code",
   "execution_count": 56,
   "source": [
    "# create regex for country\r\n",
    "country_regex = r'\\b|\\b'.join(unaccented_countries)\r\n",
    "country_regex[0:500]"
   ],
   "outputs": [
    {
     "output_type": "execute_result",
     "data": {
      "text/plain": [
       "'South Georgia and the South Sandwich Islands\\\\b|\\\\bUnited States Minor Outlying Islands\\\\b|\\\\bBonaire, Saint Eustatius and Saba \\\\b|\\\\bHeard Island and McDonald Islands\\\\b|\\\\bDemocratic Republic of the Congo\\\\b|\\\\bSaint Vincent and the Grenadines\\\\b|\\\\bBritish Indian Ocean Territory\\\\b|\\\\bFrench Southern Territories\\\\b|\\\\bSaint Pierre and Miquelon\\\\b|\\\\bCentral African Republic\\\\b|\\\\bNorthern Mariana Islands\\\\b|\\\\bTurks and Caicos Islands\\\\b|\\\\bBosnia and Herzegovina\\\\b|\\\\bSvalbard and Jan Mayen\\\\b|\\\\bBritish Virgin Island'"
      ]
     },
     "metadata": {},
     "execution_count": 56
    }
   ],
   "metadata": {}
  },
  {
   "cell_type": "code",
   "execution_count": 63,
   "source": [
    "# test countries regex\r\n",
    "np.random.seed(10)\r\n",
    "\r\n",
    "test_headlines = np.random.choice(data, 10)\r\n",
    "\r\n",
    "for test_headline in test_headlines:\r\n",
    "    match = re.search(country_regex, test_headline)\r\n",
    "    print(test_headline)\r\n",
    "    if match:\r\n",
    "        print(match.group(0), \"\\n\")"
   ],
   "outputs": [
    {
     "output_type": "stream",
     "name": "stdout",
     "text": [
      "Rumors about Mumps Spreading in New Bedford have been Refuted\n",
      "New medicine wipes out West Nile Virus in Ventura\n",
      "Will Rotavirus vaccine help Addis Ababa?\n",
      "Chikungunya re-emerges in Kobe\n",
      "Zika symptoms spotted in Quisqueya\n",
      "New Delhi Addressing Zika Concerns\n",
      "West Nile Virus Outbreak in Saint Johns\n",
      "Toms River Encounters Severe Symptoms of Respiratory Syncytial Virus\n",
      "The CDC in Atlanta is Growing Worried\n",
      "Zika case reported in Oton\n"
     ]
    }
   ],
   "metadata": {}
  },
  {
   "cell_type": "code",
   "execution_count": 62,
   "source": [
    "# test on headline with BOTH city and country\r\n",
    "test_headline = data[3]\r\n",
    "print(test_headline)\r\n",
    "print(re.search(city_regex, test_headline).group(0))\r\n",
    "print(re.search(country_regex, test_headline).group(0))"
   ],
   "outputs": [
    {
     "output_type": "stream",
     "name": "stdout",
     "text": [
      "Mystery Virus Spreads in Recife, Brazil\n",
      "Recife\n",
      "Brazil\n"
     ]
    }
   ],
   "metadata": {}
  },
  {
   "cell_type": "code",
   "execution_count": 73,
   "source": [
    "# function for finding city and country\r\n",
    "def city_and_country_in_headline(headline):\r\n",
    "    \"\"\"\r\n",
    "    Finds any city or country names in text headline.\r\n",
    "    \r\n",
    "    :param headline: string of the headline\r\n",
    "    \r\n",
    "    :return dict: dictionary which maps headline to cities and countries contained\r\n",
    "    \"\"\"\r\n",
    "\r\n",
    "    # match with regex\r\n",
    "    country_match = re.search(country_regex, headline)\r\n",
    "    city_match = re.search(city_regex, headline)\r\n",
    "    \r\n",
    "    # save actual match (from group(0)) into var or else 'None'\r\n",
    "    countries = None if not country_match else country_match.group(0)\r\n",
    "    cities = None if not city_match else city_match.group(0)\r\n",
    "\r\n",
    "    return dict(Headline=headline, Countries=countries, Cities=cities)"
   ],
   "outputs": [],
   "metadata": {}
  },
  {
   "cell_type": "code",
   "execution_count": 74,
   "source": [
    "# test finding function\r\n",
    "city_and_country_in_headline(data[3])"
   ],
   "outputs": [
    {
     "output_type": "execute_result",
     "data": {
      "text/plain": [
       "{'Headline': 'Mystery Virus Spreads in Recife, Brazil',\n",
       " 'Countries': 'Brazil',\n",
       " 'Cities': 'Recife'}"
      ]
     },
     "metadata": {},
     "execution_count": 74
    }
   ],
   "metadata": {}
  },
  {
   "cell_type": "code",
   "execution_count": 75,
   "source": [
    "city_and_country_in_headline(data[10])"
   ],
   "outputs": [
    {
     "output_type": "execute_result",
     "data": {
      "text/plain": [
       "{'Headline': 'Brownsville teen contracts Zika virus',\n",
       " 'Countries': None,\n",
       " 'Cities': 'Brownsville'}"
      ]
     },
     "metadata": {},
     "execution_count": 75
    }
   ],
   "metadata": {}
  },
  {
   "cell_type": "code",
   "execution_count": 76,
   "source": [
    "# try applying to all headlines\r\n",
    "headline_cities_and_countries = [city_and_country_in_headline(headline) for headline in data]"
   ],
   "outputs": [],
   "metadata": {}
  },
  {
   "cell_type": "code",
   "execution_count": 79,
   "source": [
    "headline_cities_and_countries[:5]"
   ],
   "outputs": [
    {
     "output_type": "execute_result",
     "data": {
      "text/plain": [
       "[{'Headline': 'Zika Outbreak Hits Miami',\n",
       "  'Countries': None,\n",
       "  'Cities': 'Miami'},\n",
       " {'Headline': 'Could Zika Reach New York City?',\n",
       "  'Countries': None,\n",
       "  'Cities': 'New York City'},\n",
       " {'Headline': 'First Case of Zika in Miami Beach',\n",
       "  'Countries': None,\n",
       "  'Cities': 'Miami Beach'},\n",
       " {'Headline': 'Mystery Virus Spreads in Recife, Brazil',\n",
       "  'Countries': 'Brazil',\n",
       "  'Cities': 'Recife'},\n",
       " {'Headline': 'Dallas man comes down with case of Zika',\n",
       "  'Countries': None,\n",
       "  'Cities': 'Dallas'}]"
      ]
     },
     "metadata": {},
     "execution_count": 79
    }
   ],
   "metadata": {}
  },
  {
   "cell_type": "code",
   "execution_count": 82,
   "source": [
    "# saving data as JSON\r\n",
    "save_file = 'headline_cities_and_countries.json'\r\n",
    "with open(save_file, 'w') as fout:\r\n",
    "    # convert dict to JSON using .dumps()\r\n",
    "    fout.write(json.dumps(headline_cities_and_countries))"
   ],
   "outputs": [],
   "metadata": {}
  },
  {
   "cell_type": "code",
   "execution_count": 84,
   "source": [
    "# test loading back in\r\n",
    "with open(save_file, 'r') as fin:\r\n",
    "    check_data = json.loads(fin.read())\r\n",
    "\r\n",
    "check_data[:5]"
   ],
   "outputs": [
    {
     "output_type": "execute_result",
     "data": {
      "text/plain": [
       "[{'Headline': 'Zika Outbreak Hits Miami',\n",
       "  'Countries': None,\n",
       "  'Cities': 'Miami'},\n",
       " {'Headline': 'Could Zika Reach New York City?',\n",
       "  'Countries': None,\n",
       "  'Cities': 'New York City'},\n",
       " {'Headline': 'First Case of Zika in Miami Beach',\n",
       "  'Countries': None,\n",
       "  'Cities': 'Miami Beach'},\n",
       " {'Headline': 'Mystery Virus Spreads in Recife, Brazil',\n",
       "  'Countries': 'Brazil',\n",
       "  'Cities': 'Recife'},\n",
       " {'Headline': 'Dallas man comes down with case of Zika',\n",
       "  'Countries': None,\n",
       "  'Cities': 'Dallas'}]"
      ]
     },
     "metadata": {},
     "execution_count": 84
    }
   ],
   "metadata": {}
  },
  {
   "cell_type": "code",
   "execution_count": 85,
   "source": [
    "# save mappings\r\n",
    "with open('city_accent_mapping.json', 'w') as fout:\r\n",
    "    fout.write(json.dumps(city_accent_map))\r\n",
    "\r\n",
    "with open('country_accent_mapping.json', 'w') as fout:\r\n",
    "    fout.write(json.dumps(country_accent_map))"
   ],
   "outputs": [],
   "metadata": {}
  },
  {
   "cell_type": "code",
   "execution_count": 86,
   "source": [
    "# convert to dataframe\r\n",
    "data = pd.read_json('headline_cities_and_countries.json')\r\n",
    "# replace Nones with NaN so that df can read\r\n",
    "data = data.replace({None: np.nan})\r\n",
    "\r\n",
    "data.head(10)"
   ],
   "outputs": [
    {
     "output_type": "execute_result",
     "data": {
      "text/plain": [
       "                                  Headline Countries         Cities\n",
       "0                 Zika Outbreak Hits Miami       NaN          Miami\n",
       "1          Could Zika Reach New York City?       NaN  New York City\n",
       "2        First Case of Zika in Miami Beach       NaN    Miami Beach\n",
       "3  Mystery Virus Spreads in Recife, Brazil    Brazil         Recife\n",
       "4  Dallas man comes down with case of Zika       NaN         Dallas\n",
       "5        Trinidad confirms first Zika case       NaN       Trinidad\n",
       "6   Zika Concerns are Spreading in Houston       NaN        Houston\n",
       "7    Geneve Scientists Battle to Find Cure       NaN         Geneve\n",
       "8    The CDC in Atlanta is Growing Worried       NaN        Atlanta\n",
       "9       Zika Infested Monkeys in Sao Paulo       NaN      Sao Paulo"
      ],
      "text/html": [
       "<div>\n",
       "<style scoped>\n",
       "    .dataframe tbody tr th:only-of-type {\n",
       "        vertical-align: middle;\n",
       "    }\n",
       "\n",
       "    .dataframe tbody tr th {\n",
       "        vertical-align: top;\n",
       "    }\n",
       "\n",
       "    .dataframe thead th {\n",
       "        text-align: right;\n",
       "    }\n",
       "</style>\n",
       "<table border=\"1\" class=\"dataframe\">\n",
       "  <thead>\n",
       "    <tr style=\"text-align: right;\">\n",
       "      <th></th>\n",
       "      <th>Headline</th>\n",
       "      <th>Countries</th>\n",
       "      <th>Cities</th>\n",
       "    </tr>\n",
       "  </thead>\n",
       "  <tbody>\n",
       "    <tr>\n",
       "      <th>0</th>\n",
       "      <td>Zika Outbreak Hits Miami</td>\n",
       "      <td>NaN</td>\n",
       "      <td>Miami</td>\n",
       "    </tr>\n",
       "    <tr>\n",
       "      <th>1</th>\n",
       "      <td>Could Zika Reach New York City?</td>\n",
       "      <td>NaN</td>\n",
       "      <td>New York City</td>\n",
       "    </tr>\n",
       "    <tr>\n",
       "      <th>2</th>\n",
       "      <td>First Case of Zika in Miami Beach</td>\n",
       "      <td>NaN</td>\n",
       "      <td>Miami Beach</td>\n",
       "    </tr>\n",
       "    <tr>\n",
       "      <th>3</th>\n",
       "      <td>Mystery Virus Spreads in Recife, Brazil</td>\n",
       "      <td>Brazil</td>\n",
       "      <td>Recife</td>\n",
       "    </tr>\n",
       "    <tr>\n",
       "      <th>4</th>\n",
       "      <td>Dallas man comes down with case of Zika</td>\n",
       "      <td>NaN</td>\n",
       "      <td>Dallas</td>\n",
       "    </tr>\n",
       "    <tr>\n",
       "      <th>5</th>\n",
       "      <td>Trinidad confirms first Zika case</td>\n",
       "      <td>NaN</td>\n",
       "      <td>Trinidad</td>\n",
       "    </tr>\n",
       "    <tr>\n",
       "      <th>6</th>\n",
       "      <td>Zika Concerns are Spreading in Houston</td>\n",
       "      <td>NaN</td>\n",
       "      <td>Houston</td>\n",
       "    </tr>\n",
       "    <tr>\n",
       "      <th>7</th>\n",
       "      <td>Geneve Scientists Battle to Find Cure</td>\n",
       "      <td>NaN</td>\n",
       "      <td>Geneve</td>\n",
       "    </tr>\n",
       "    <tr>\n",
       "      <th>8</th>\n",
       "      <td>The CDC in Atlanta is Growing Worried</td>\n",
       "      <td>NaN</td>\n",
       "      <td>Atlanta</td>\n",
       "    </tr>\n",
       "    <tr>\n",
       "      <th>9</th>\n",
       "      <td>Zika Infested Monkeys in Sao Paulo</td>\n",
       "      <td>NaN</td>\n",
       "      <td>Sao Paulo</td>\n",
       "    </tr>\n",
       "  </tbody>\n",
       "</table>\n",
       "</div>"
      ]
     },
     "metadata": {},
     "execution_count": 86
    }
   ],
   "metadata": {}
  },
  {
   "cell_type": "code",
   "execution_count": null,
   "source": [],
   "outputs": [],
   "metadata": {}
  }
 ],
 "metadata": {
  "orig_nbformat": 4,
  "language_info": {
   "name": "python"
  }
 },
 "nbformat": 4,
 "nbformat_minor": 2
}